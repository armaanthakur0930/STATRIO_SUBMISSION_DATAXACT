{
  "cells": [
    {
      "cell_type": "markdown",
      "source": [
        "Random Forest Regression"
      ],
      "metadata": {
        "id": "sNsDnpEdqjb7"
      }
    },
    {
      "cell_type": "code",
      "execution_count": null,
      "metadata": {
        "colab": {
          "background_save": true
        },
        "id": "2fHuNE016-DF"
      },
      "outputs": [],
      "source": [
        "import pandas as pd\n",
        "from sklearn.ensemble import RandomForestRegressor\n",
        "from sklearn.impute import SimpleImputer\n",
        "from sklearn.metrics import r2_score\n",
        "\n",
        "# Load the datasets\n",
        "book_i4_data = pd.read_csv('Booki4.csv')\n",
        "book_i48_data = pd.read_csv('Booki48.csv')\n",
        "book_1_data = pd.read_csv('Book1.csv')\n",
        "book_3_data = pd.read_csv('Book3.csv')\n",
        "book_5_data = pd.read_csv('Book5.csv')\n",
        "testing_data = pd.read_csv('testing_set.csv')\n",
        "# Replace blank spaces with NaN values\n",
        "book_i4_data.replace(' ', float('nan'), inplace=True)\n",
        "book_i48_data.replace(' ', float('nan'), inplace=True)\n",
        "book_1_data.replace(' ', float('nan'), inplace=True)\n",
        "book_3_data.replace(' ', float('nan'), inplace=True)\n",
        "book_5_data.replace(' ', float('nan'), inplace=True)\n",
        "testing_data.replace(' ', float('nan'), inplace=True)\n",
        "\n",
        "# Merge the datasets\n",
        "merged_data = pd.concat([book_1_data[['R5 (MOhm)', 'R6 (MOhm)', 'R7 (MOhm)', 'R8 (MOhm)', 'R13 (MOhm)', 'R14 (MOhm)']],\n",
        "                        book_3_data[['R9 (MOhm)', 'R10 (MOhm)', 'R11 (MOhm)', 'R12 (MOhm)']],\n",
        "                        book_5_data[['R13 (MOhm)', 'R14 (MOhm)', 'Flow rate (mL/min)', 'Heater voltage (V)']],\n",
        "                        book_i4_data[['Time (s)', 'CO (ppm)', 'Humidity (%r.h.)', 'Temperature (C)']],\n",
        "                        book_i48_data[['Flow rate (mL/min)', 'Heater voltage (V)', 'R1 (MOhm)', 'R2 (MOhm)', 'R3 (MOhm)', 'R4 (MOhm)']]], axis=1)\n",
        "\n",
        "# Prepare the training and testing data\n",
        "X_train = merged_data.drop(\"CO (ppm)\", axis=1)\n",
        "y_train = merged_data[\"CO (ppm)\"]\n",
        "X_test = testing_data[X_train.columns]\n",
        "\n",
        "# Handle missing values\n",
        "imputer = SimpleImputer(strategy='mean')\n",
        "X_train_imputed = imputer.fit_transform(X_train)\n",
        "X_test_imputed = imputer.transform(X_test)\n",
        "\n",
        "# Remove rows with NaN values in y_train\n",
        "valid_indices = ~pd.isnull(y_train)\n",
        "X_train_imputed = X_train_imputed[valid_indices]\n",
        "y_train = y_train[valid_indices]\n",
        "\n",
        "# Train the model\n",
        "model = RandomForestRegressor()\n",
        "model.fit(X_train_imputed, y_train)\n",
        "\n",
        "# Make predictions on the testing set\n",
        "predictions = model.predict(X_test_imputed)\n",
        "\n",
        "# Create a DataFrame with the predictions\n",
        "prediction_data = pd.DataFrame({'CO(ppm)': predictions})\n",
        "\n",
        "# Export the predicted data to a CSV file\n",
        "prediction_data.to_csv('predicted_data.csv', index=False)\n"
      ]
    },
    {
      "cell_type": "code",
      "source": [
        "import pandas as pd\n",
        "from sklearn.ensemble import RandomForestRegressor\n",
        "from sklearn.impute import SimpleImputer\n",
        "from sklearn.metrics import r2_score\n",
        "from sklearn.model_selection import train_test_split\n",
        "\n",
        "# Load the datasets\n",
        "book_i4_data = pd.read_csv('Booki4.csv')\n",
        "book_i48_data = pd.read_csv('Booki48.csv')\n",
        "book_1_data = pd.read_csv('Book1.csv')\n",
        "book_3_data = pd.read_csv('Book3.csv')\n",
        "book_5_data = pd.read_csv('Book5.csv')\n",
        "testing_data = pd.read_csv('testing_set.csv')\n",
        "\n",
        "# Replace blank spaces with NaN values\n",
        "book_i4_data.replace(' ', float('nan'), inplace=True)\n",
        "book_i48_data.replace(' ', float('nan'), inplace=True)\n",
        "book_1_data.replace(' ', float('nan'), inplace=True)\n",
        "book_3_data.replace(' ', float('nan'), inplace=True)\n",
        "book_5_data.replace(' ', float('nan'), inplace=True)\n",
        "testing_data.replace(' ', float('nan'), inplace=True)\n",
        "\n",
        "# Merge the datasets\n",
        "merged_data = pd.concat([book_1_data[['R5 (MOhm)', 'R6 (MOhm)', 'R7 (MOhm)', 'R8 (MOhm)', 'R13 (MOhm)', 'R14 (MOhm)']],\n",
        "                        book_3_data[['R9 (MOhm)', 'R10 (MOhm)', 'R11 (MOhm)', 'R12 (MOhm)']],\n",
        "                        book_5_data[['R13 (MOhm)', 'R14 (MOhm)', 'Flow rate (mL/min)', 'Heater voltage (V)']],\n",
        "                        book_i4_data[['Time (s)', 'CO (ppm)', 'Humidity (%r.h.)', 'Temperature (C)']],\n",
        "                        book_i48_data[['Flow rate (mL/min)', 'Heater voltage (V)', 'R1 (MOhm)', 'R2 (MOhm)', 'R3 (MOhm)', 'R4 (MOhm)']]], axis=1)\n",
        "\n",
        "# Prepare the training and testing data\n",
        "X = merged_data.drop(\"CO (ppm)\", axis=1)\n",
        "y = merged_data[\"CO (ppm)\"]\n",
        "X_test = testing_data[X.columns]\n",
        "\n",
        "# Handle missing values\n",
        "imputer = SimpleImputer(strategy='mean')\n",
        "X_imputed = imputer.fit_transform(X)\n",
        "X_test_imputed = imputer.transform(X_test)\n",
        "\n",
        "# Split the data into training and testing sets\n",
        "X_train, X_test_split, y_train, y_test = train_test_split(X_imputed, y, test_size=0.2, random_state=42)\n",
        "\n",
        "# Identify indices with missing values in y_train\n",
        "missing_indices = y_train.isnull()\n",
        "\n",
        "# Drop corresponding rows from X_train and y_train\n",
        "X_train = X_train[~missing_indices]\n",
        "y_train = y_train[~missing_indices]\n",
        "\n",
        "# Train the model\n",
        "model = RandomForestRegressor()\n",
        "model.fit(X_train, y_train)\n",
        "\n",
        "# Evaluate model accuracy on training set\n",
        "y_train_pred = model.predict(X_train)\n",
        "train_r2_score = r2_score(y_train, y_train_pred)\n",
        "print(\"Training r2 score:\", train_r2_score)\n"
      ],
      "metadata": {
        "colab": {
          "base_uri": "https://localhost:8080/"
        },
        "id": "T9OARXpVlzoo",
        "outputId": "5fc72461-3580-4204-a029-fb6086da29e7"
      },
      "execution_count": 9,
      "outputs": [
        {
          "output_type": "stream",
          "name": "stdout",
          "text": [
            "Training r2 score: 0.9915313150554025\n"
          ]
        }
      ]
    }
  ],
  "metadata": {
    "colab": {
      "provenance": []
    },
    "kernelspec": {
      "display_name": "Python 3",
      "name": "python3"
    },
    "language_info": {
      "name": "python"
    }
  },
  "nbformat": 4,
  "nbformat_minor": 0
}